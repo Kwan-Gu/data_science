{
 "cells": [
  {
   "cell_type": "code",
   "execution_count": 1,
   "metadata": {},
   "outputs": [
    {
     "name": "stdout",
     "output_type": "stream",
     "text": [
      "File already exists.\n"
     ]
    }
   ],
   "source": [
    "import os\n",
    "import wget\n",
    "from pathlib import Path\n",
    "# 데이터 수집 URL\n",
    "url = \"https://archive.ics.uci.edu/ml/machine-learning-databases/adult/adult.data\"\n",
    "# 데이터셋 명\n",
    "dataset_name = 'census-income'\n",
    "# 데이터 저장 경로 생성\n",
    "out = Path(os.getcwd() + '/data/' + dataset_name + '.csv')\n",
    "out.parent.mkdir(parents = True, exist_ok = True)\n",
    "if out.exists(): print(\"File already exists.\")\n",
    "else:\n",
    "    print(\"Downloading file...\")\n",
    "    # 데이터 다운로드\n",
    "    wget.download(url, out.as_posix())"
   ]
  },
  {
   "cell_type": "code",
   "execution_count": 2,
   "metadata": {},
   "outputs": [
    {
     "name": "stdout",
     "output_type": "stream",
     "text": [
      "39 73 [17 18 19 20 21 22 23 24 25 26 27 28 29 30 31 32 33 34 35 36 37 38 39 40\n",
      " 41 42 43 44 45 46 47 48 49 50 51 52 53 54 55 56 57 58 59 60 61 62 63 64\n",
      " 65 66 67 68 69 70 71 72 73 74 75 76 77 78 79 80 81 82 83 84 85 86 87 88\n",
      " 90]\n",
      " State-gov 9 [' ?' ' Federal-gov' ' Local-gov' ' Never-worked' ' Private'\n",
      " ' Self-emp-inc' ' Self-emp-not-inc' ' State-gov' ' Without-pay']\n",
      " Bachelors 16 [' 10th' ' 11th' ' 12th' ' 1st-4th' ' 5th-6th' ' 7th-8th' ' 9th'\n",
      " ' Assoc-acdm' ' Assoc-voc' ' Bachelors' ' Doctorate' ' HS-grad'\n",
      " ' Masters' ' Preschool' ' Prof-school' ' Some-college']\n",
      " 13 16 [ 1  2  3  4  5  6  7  8  9 10 11 12 13 14 15 16]\n",
      " Never-married 7 [' Divorced' ' Married-AF-spouse' ' Married-civ-spouse'\n",
      " ' Married-spouse-absent' ' Never-married' ' Separated' ' Widowed']\n",
      " Adm-clerical 15 [' ?' ' Adm-clerical' ' Armed-Forces' ' Craft-repair' ' Exec-managerial'\n",
      " ' Farming-fishing' ' Handlers-cleaners' ' Machine-op-inspct'\n",
      " ' Other-service' ' Priv-house-serv' ' Prof-specialty' ' Protective-serv'\n",
      " ' Sales' ' Tech-support' ' Transport-moving']\n",
      " Not-in-family 6 [' Husband' ' Not-in-family' ' Other-relative' ' Own-child' ' Unmarried'\n",
      " ' Wife']\n",
      " White 5 [' Amer-Indian-Eskimo' ' Asian-Pac-Islander' ' Black' ' Other' ' White']\n",
      " Male 2 [' Female' ' Male']\n",
      " 2174 119 [    0   114   401   594   914   991  1055  1086  1111  1151  1173  1409\n",
      "  1424  1455  1471  1506  1639  1797  1831  1848  2009  2036  2050  2062\n",
      "  2105  2174  2176  2202  2228  2290  2329  2346  2354  2387  2407  2414\n",
      "  2463  2538  2580  2597  2635  2653  2829  2885  2907  2936  2961  2964\n",
      "  2977  2993  3103  3137  3273  3325  3411  3418  3432  3456  3464  3471\n",
      "  3674  3781  3818  3887  3908  3942  4064  4101  4386  4416  4508  4650\n",
      "  4687  4787  4865  4931  4934  5013  5060  5178  5455  5556  5721  6097\n",
      "  6360  6418  6497  6514  6723  6767  6849  7298  7430  7443  7688  7896\n",
      "  7978  8614  9386  9562 10520 10566 10605 11678 13550 14084 14344 15020\n",
      " 15024 15831 18481 20051 22040 25124 25236 27828 34095 41310 99999]\n",
      " 0 92 [   0  155  213  323  419  625  653  810  880  974 1092 1138 1258 1340\n",
      " 1380 1408 1411 1485 1504 1539 1564 1573 1579 1590 1594 1602 1617 1628\n",
      " 1648 1651 1668 1669 1672 1719 1721 1726 1735 1740 1741 1755 1762 1816\n",
      " 1825 1844 1848 1876 1887 1902 1944 1974 1977 1980 2001 2002 2042 2051\n",
      " 2057 2080 2129 2149 2163 2174 2179 2201 2205 2206 2231 2238 2246 2258\n",
      " 2267 2282 2339 2352 2377 2392 2415 2444 2457 2467 2472 2489 2547 2559\n",
      " 2603 2754 2824 3004 3683 3770 3900 4356]\n",
      " 40 94 [ 1  2  3  4  5  6  7  8  9 10 11 12 13 14 15 16 17 18 19 20 21 22 23 24\n",
      " 25 26 27 28 29 30 31 32 33 34 35 36 37 38 39 40 41 42 43 44 45 46 47 48\n",
      " 49 50 51 52 53 54 55 56 57 58 59 60 61 62 63 64 65 66 67 68 70 72 73 74\n",
      " 75 76 77 78 80 81 82 84 85 86 87 88 89 90 91 92 94 95 96 97 98 99]\n",
      " United-States 42 [' ?' ' Cambodia' ' Canada' ' China' ' Columbia' ' Cuba'\n",
      " ' Dominican-Republic' ' Ecuador' ' El-Salvador' ' England' ' France'\n",
      " ' Germany' ' Greece' ' Guatemala' ' Haiti' ' Holand-Netherlands'\n",
      " ' Honduras' ' Hong' ' Hungary' ' India' ' Iran' ' Ireland' ' Italy'\n",
      " ' Jamaica' ' Japan' ' Laos' ' Mexico' ' Nicaragua'\n",
      " ' Outlying-US(Guam-USVI-etc)' ' Peru' ' Philippines' ' Poland'\n",
      " ' Portugal' ' Puerto-Rico' ' Scotland' ' South' ' Taiwan' ' Thailand'\n",
      " ' Trinadad&Tobago' ' United-States' ' Vietnam' ' Yugoslavia']\n",
      " <=50K 2 [' <=50K' ' >50K']\n",
      "Set 3 ['test' 'train' 'valid']\n"
     ]
    }
   ],
   "source": [
    "import numpy as np\n",
    "import pandas as pd\n",
    "from sklearn.preprocessing import LabelEncoder\n",
    "# 데이터 불러오기\n",
    "train = pd.read_csv(out).copy()\n",
    "target = ' <=50K'\n",
    "# 학습/검증/평가 데이터 구분\n",
    "if \"Set\" not in train.columns: train[\"Set\"] = np.random.choice([\"train\", \"valid\", \"test\"], p = [.8, .1, .1], size = (train.shape[0], ))\n",
    "train_indices = train[train.Set == \"train\"].index\n",
    "valid_indices = train[train.Set == \"valid\"].index\n",
    "test_indices  = train[train.Set == \"test\" ].index\n",
    "# 컬럼별 unique 개수\n",
    "nunique = train.nunique()\n",
    "# 컬럼별 dtype\n",
    "types = train.dtypes\n",
    "categorical_columns = []\n",
    "categorical_dims =  {}\n",
    "for col in train.columns:\n",
    "    # 범주형 변수면 결측을 VV_likely로 채우고 라벨 인코딩 적용\n",
    "    if types[col] == 'object' or nunique[col] < 200:\n",
    "        l_enc = LabelEncoder()\n",
    "        train[col] = train[col].fillna(\"VV_likely\")\n",
    "        train[col] = l_enc.fit_transform(train[col].values)\n",
    "        categorical_columns.append(col)\n",
    "        categorical_dims[col] = len(l_enc.classes_)\n",
    "        print(col, train[col].nunique(), l_enc.classes_)\n",
    "    # 범주형 변수 아니면 결측을 평균으로 보완\n",
    "    else: train.fillna(train.loc[train_indices, col].mean(), inplace = True)"
   ]
  },
  {
   "cell_type": "code",
   "execution_count": 3,
   "metadata": {},
   "outputs": [],
   "source": [
    "# 타겟 라벨 변경\n",
    "train.loc[train[target] == 0, target] = \"not_wealthy\"\n",
    "train.loc[train[target] == 1, target] = \"wealthy\""
   ]
  },
  {
   "cell_type": "code",
   "execution_count": 4,
   "metadata": {},
   "outputs": [
    {
     "name": "stdout",
     "output_type": "stream",
     "text": [
      "Device used : cpu\n"
     ]
    }
   ],
   "source": [
    "import torch\n",
    "from pytorch_tabnet.tab_model import TabNetClassifier\n",
    "# 입력 변수\n",
    "unused_feat = ['Set']\n",
    "features = [col for col in train.columns if col not in unused_feat + [target]] \n",
    "# 범주형 변수\n",
    "cat_idxs = [i for i, f in enumerate(features) if f in categorical_columns]\n",
    "cat_dims = [categorical_dims[f] for i, f in enumerate(features) if f in categorical_columns]\n",
    "# TabNet 임베딩 파라미터 설정\n",
    "tabnet_params = {\"cat_idxs\" : cat_idxs,\n",
    "                 \"cat_dims\" : cat_dims,\n",
    "                 \"cat_emb_dim\" : 1,\n",
    "                 \"optimizer_fn\" : torch.optim.Adam,\n",
    "                 \"optimizer_params\" : {\"lr\" : 2e-2},\n",
    "                 \"scheduler_params\":{\"step_size\" : 50, # how to use learning rate scheduler\n",
    "                                     \"gamma\" : 0.9},\n",
    "                 \"scheduler_fn\" : torch.optim.lr_scheduler.StepLR,\n",
    "                 \"mask_type\" : 'entmax' # \"sparsemax\"\n",
    "                }"
   ]
  },
  {
   "cell_type": "code",
   "execution_count": 7,
   "metadata": {},
   "outputs": [
    {
     "name": "stdout",
     "output_type": "stream",
     "text": [
      "Device used : cpu\n",
      "epoch 0  | loss: 0.67102 | train_auc: 0.75518 | valid_auc: 0.76232 |  0:00:03s\n",
      "epoch 1  | loss: 0.52215 | train_auc: 0.81715 | valid_auc: 0.82345 |  0:00:05s\n",
      "epoch 2  | loss: 0.45838 | train_auc: 0.86456 | valid_auc: 0.86898 |  0:00:08s\n",
      "epoch 3  | loss: 0.42507 | train_auc: 0.88069 | valid_auc: 0.88324 |  0:00:11s\n",
      "epoch 4  | loss: 0.40282 | train_auc: 0.89924 | valid_auc: 0.89831 |  0:00:13s\n",
      "epoch 5  | loss: 0.38769 | train_auc: 0.90652 | valid_auc: 0.90391 |  0:00:16s\n",
      "epoch 6  | loss: 0.38419 | train_auc: 0.90932 | valid_auc: 0.90724 |  0:00:18s\n",
      "epoch 7  | loss: 0.37108 | train_auc: 0.90719 | valid_auc: 0.90391 |  0:00:20s\n",
      "epoch 8  | loss: 0.36281 | train_auc: 0.89893 | valid_auc: 0.89606 |  0:00:23s\n",
      "epoch 9  | loss: 0.35991 | train_auc: 0.9115  | valid_auc: 0.9095  |  0:00:27s\n",
      "epoch 10 | loss: 0.35248 | train_auc: 0.91648 | valid_auc: 0.91494 |  0:00:29s\n",
      "epoch 11 | loss: 0.35007 | train_auc: 0.92559 | valid_auc: 0.9205  |  0:00:32s\n",
      "epoch 12 | loss: 0.34813 | train_auc: 0.92369 | valid_auc: 0.92105 |  0:00:35s\n",
      "epoch 13 | loss: 0.339   | train_auc: 0.92739 | valid_auc: 0.92349 |  0:00:37s\n",
      "epoch 14 | loss: 0.33566 | train_auc: 0.93148 | valid_auc: 0.92423 |  0:00:40s\n",
      "epoch 15 | loss: 0.33009 | train_auc: 0.93186 | valid_auc: 0.92562 |  0:00:43s\n",
      "epoch 16 | loss: 0.3319  | train_auc: 0.93209 | valid_auc: 0.92624 |  0:00:46s\n",
      "epoch 17 | loss: 0.32817 | train_auc: 0.93076 | valid_auc: 0.92567 |  0:00:48s\n",
      "epoch 18 | loss: 0.33217 | train_auc: 0.93117 | valid_auc: 0.92734 |  0:00:51s\n",
      "epoch 19 | loss: 0.32583 | train_auc: 0.93495 | valid_auc: 0.92864 |  0:00:54s\n",
      "epoch 20 | loss: 0.32427 | train_auc: 0.93412 | valid_auc: 0.92784 |  0:00:56s\n",
      "epoch 21 | loss: 0.32473 | train_auc: 0.93334 | valid_auc: 0.92592 |  0:00:59s\n",
      "epoch 22 | loss: 0.32924 | train_auc: 0.93536 | valid_auc: 0.92836 |  0:01:01s\n",
      "epoch 23 | loss: 0.32045 | train_auc: 0.93575 | valid_auc: 0.92958 |  0:01:04s\n",
      "epoch 24 | loss: 0.32333 | train_auc: 0.9356  | valid_auc: 0.92939 |  0:01:07s\n",
      "epoch 25 | loss: 0.32163 | train_auc: 0.93665 | valid_auc: 0.92972 |  0:01:10s\n",
      "epoch 26 | loss: 0.31732 | train_auc: 0.9369  | valid_auc: 0.92979 |  0:01:12s\n",
      "epoch 27 | loss: 0.32614 | train_auc: 0.93585 | valid_auc: 0.93031 |  0:01:15s\n",
      "epoch 28 | loss: 0.32046 | train_auc: 0.93701 | valid_auc: 0.92995 |  0:01:18s\n",
      "epoch 29 | loss: 0.31741 | train_auc: 0.93754 | valid_auc: 0.92871 |  0:01:21s\n",
      "epoch 30 | loss: 0.31564 | train_auc: 0.9357  | valid_auc: 0.928   |  0:01:23s\n",
      "epoch 31 | loss: 0.32456 | train_auc: 0.93719 | valid_auc: 0.92966 |  0:01:26s\n",
      "epoch 32 | loss: 0.31906 | train_auc: 0.93654 | valid_auc: 0.92959 |  0:01:28s\n",
      "epoch 33 | loss: 0.31883 | train_auc: 0.93743 | valid_auc: 0.92704 |  0:01:31s\n",
      "epoch 34 | loss: 0.3116  | train_auc: 0.9385  | valid_auc: 0.9295  |  0:01:33s\n",
      "epoch 35 | loss: 0.31876 | train_auc: 0.93813 | valid_auc: 0.92824 |  0:01:36s\n",
      "epoch 36 | loss: 0.3103  | train_auc: 0.93825 | valid_auc: 0.92814 |  0:01:39s\n",
      "epoch 37 | loss: 0.31541 | train_auc: 0.93864 | valid_auc: 0.92767 |  0:01:41s\n",
      "epoch 38 | loss: 0.31761 | train_auc: 0.93807 | valid_auc: 0.92734 |  0:01:44s\n",
      "epoch 39 | loss: 0.31492 | train_auc: 0.93944 | valid_auc: 0.92942 |  0:01:46s\n",
      "epoch 40 | loss: 0.31572 | train_auc: 0.93811 | valid_auc: 0.92932 |  0:01:50s\n",
      "epoch 41 | loss: 0.3179  | train_auc: 0.93834 | valid_auc: 0.93093 |  0:01:52s\n",
      "epoch 42 | loss: 0.31013 | train_auc: 0.93953 | valid_auc: 0.92804 |  0:01:55s\n",
      "epoch 43 | loss: 0.31045 | train_auc: 0.939   | valid_auc: 0.92798 |  0:01:58s\n",
      "epoch 44 | loss: 0.3131  | train_auc: 0.93952 | valid_auc: 0.93002 |  0:02:01s\n",
      "epoch 45 | loss: 0.31632 | train_auc: 0.93918 | valid_auc: 0.93109 |  0:02:05s\n",
      "epoch 46 | loss: 0.30788 | train_auc: 0.94005 | valid_auc: 0.93055 |  0:02:08s\n",
      "epoch 47 | loss: 0.31586 | train_auc: 0.93914 | valid_auc: 0.92629 |  0:02:13s\n",
      "epoch 48 | loss: 0.30904 | train_auc: 0.93936 | valid_auc: 0.92829 |  0:02:16s\n",
      "epoch 49 | loss: 0.31293 | train_auc: 0.94047 | valid_auc: 0.92836 |  0:02:20s\n",
      "epoch 50 | loss: 0.30759 | train_auc: 0.94083 | valid_auc: 0.93065 |  0:02:24s\n",
      "epoch 51 | loss: 0.31342 | train_auc: 0.94078 | valid_auc: 0.9294  |  0:02:28s\n",
      "epoch 52 | loss: 0.30395 | train_auc: 0.93938 | valid_auc: 0.92777 |  0:02:32s\n",
      "epoch 53 | loss: 0.30674 | train_auc: 0.94134 | valid_auc: 0.92599 |  0:02:37s\n",
      "epoch 54 | loss: 0.31344 | train_auc: 0.93991 | valid_auc: 0.92691 |  0:02:41s\n",
      "epoch 55 | loss: 0.30754 | train_auc: 0.94158 | valid_auc: 0.92816 |  0:02:45s\n",
      "epoch 56 | loss: 0.30955 | train_auc: 0.94164 | valid_auc: 0.92751 |  0:02:49s\n",
      "epoch 57 | loss: 0.31154 | train_auc: 0.94147 | valid_auc: 0.92828 |  0:02:52s\n",
      "epoch 58 | loss: 0.30636 | train_auc: 0.94072 | valid_auc: 0.92626 |  0:02:55s\n",
      "epoch 59 | loss: 0.30841 | train_auc: 0.94214 | valid_auc: 0.92737 |  0:02:58s\n",
      "epoch 60 | loss: 0.30565 | train_auc: 0.9417  | valid_auc: 0.92591 |  0:03:01s\n",
      "epoch 61 | loss: 0.30686 | train_auc: 0.94204 | valid_auc: 0.92699 |  0:03:04s\n",
      "epoch 62 | loss: 0.30406 | train_auc: 0.94301 | valid_auc: 0.92656 |  0:03:07s\n",
      "epoch 63 | loss: 0.30692 | train_auc: 0.9424  | valid_auc: 0.92592 |  0:03:10s\n",
      "epoch 64 | loss: 0.30777 | train_auc: 0.94239 | valid_auc: 0.92758 |  0:03:13s\n",
      "epoch 65 | loss: 0.30124 | train_auc: 0.94344 | valid_auc: 0.92866 |  0:03:16s\n",
      "\n",
      "Early stopping occurred at epoch 65 with best_epoch = 45 and best_valid_auc = 0.93109\n",
      "Best weights from best epoch are automatically used!\n",
      "epoch 0  | loss: 0.3183  | train_auc: 0.9382  | valid_auc: 0.92845 |  0:00:02s\n",
      "epoch 1  | loss: 0.31279 | train_auc: 0.93974 | valid_auc: 0.92842 |  0:00:05s\n",
      "epoch 2  | loss: 0.31838 | train_auc: 0.93969 | valid_auc: 0.92851 |  0:00:07s\n",
      "epoch 3  | loss: 0.31432 | train_auc: 0.93972 | valid_auc: 0.92847 |  0:00:11s\n",
      "epoch 4  | loss: 0.31593 | train_auc: 0.93945 | valid_auc: 0.93073 |  0:00:13s\n",
      "epoch 5  | loss: 0.31191 | train_auc: 0.94107 | valid_auc: 0.92929 |  0:00:16s\n",
      "epoch 6  | loss: 0.31053 | train_auc: 0.93961 | valid_auc: 0.92717 |  0:00:19s\n",
      "epoch 7  | loss: 0.31244 | train_auc: 0.94147 | valid_auc: 0.92681 |  0:00:21s\n",
      "epoch 8  | loss: 0.30705 | train_auc: 0.94162 | valid_auc: 0.92721 |  0:00:24s\n",
      "epoch 9  | loss: 0.31726 | train_auc: 0.93786 | valid_auc: 0.92659 |  0:00:26s\n",
      "epoch 10 | loss: 0.30871 | train_auc: 0.94125 | valid_auc: 0.92704 |  0:00:29s\n",
      "epoch 11 | loss: 0.30659 | train_auc: 0.94137 | valid_auc: 0.92872 |  0:00:31s\n",
      "epoch 12 | loss: 0.30969 | train_auc: 0.94013 | valid_auc: 0.92605 |  0:00:34s\n",
      "epoch 13 | loss: 0.30634 | train_auc: 0.94072 | valid_auc: 0.92801 |  0:00:36s\n",
      "epoch 14 | loss: 0.30904 | train_auc: 0.94106 | valid_auc: 0.92668 |  0:00:40s\n",
      "epoch 15 | loss: 0.30409 | train_auc: 0.94176 | valid_auc: 0.92709 |  0:00:42s\n",
      "epoch 16 | loss: 0.30853 | train_auc: 0.94132 | valid_auc: 0.9268  |  0:00:45s\n",
      "epoch 17 | loss: 0.30648 | train_auc: 0.94104 | valid_auc: 0.92654 |  0:00:47s\n",
      "epoch 18 | loss: 0.30193 | train_auc: 0.9431  | valid_auc: 0.9261  |  0:00:50s\n",
      "epoch 19 | loss: 0.30743 | train_auc: 0.94155 | valid_auc: 0.9212  |  0:00:53s\n",
      "epoch 20 | loss: 0.30495 | train_auc: 0.94354 | valid_auc: 0.9253  |  0:00:56s\n",
      "epoch 21 | loss: 0.30875 | train_auc: 0.94262 | valid_auc: 0.92566 |  0:00:59s\n",
      "epoch 22 | loss: 0.30449 | train_auc: 0.94209 | valid_auc: 0.9244  |  0:01:02s\n",
      "epoch 23 | loss: 0.30743 | train_auc: 0.94377 | valid_auc: 0.92388 |  0:01:06s\n",
      "epoch 24 | loss: 0.30595 | train_auc: 0.94407 | valid_auc: 0.92469 |  0:01:10s\n",
      "\n",
      "Early stopping occurred at epoch 24 with best_epoch = 4 and best_valid_auc = 0.93073\n",
      "Best weights from best epoch are automatically used!\n"
     ]
    },
    {
     "name": "stderr",
     "output_type": "stream",
     "text": [
      "<ipython-input-7-9aaceec6493e>:25: DeprecationWarning: elementwise comparison failed; this will raise an error in the future.\n",
      "  assert(np.all(np.array(save_history[0] == np.array(save_history[1]))))\n"
     ]
    },
    {
     "ename": "AssertionError",
     "evalue": "",
     "output_type": "error",
     "traceback": [
      "\u001b[1;31m---------------------------------------------------------------------------\u001b[0m",
      "\u001b[1;31mAssertionError\u001b[0m                            Traceback (most recent call last)",
      "\u001b[1;32m<ipython-input-7-9aaceec6493e>\u001b[0m in \u001b[0;36m<module>\u001b[1;34m\u001b[0m\n\u001b[0;32m     23\u001b[0m             )\n\u001b[0;32m     24\u001b[0m     \u001b[0msave_history\u001b[0m\u001b[1;33m.\u001b[0m\u001b[0mappend\u001b[0m\u001b[1;33m(\u001b[0m\u001b[0mclf\u001b[0m\u001b[1;33m.\u001b[0m\u001b[0mhistory\u001b[0m\u001b[1;33m[\u001b[0m\u001b[1;34m\"valid_auc\"\u001b[0m\u001b[1;33m]\u001b[0m\u001b[1;33m)\u001b[0m\u001b[1;33m\u001b[0m\u001b[1;33m\u001b[0m\u001b[0m\n\u001b[1;32m---> 25\u001b[1;33m \u001b[1;32massert\u001b[0m\u001b[1;33m(\u001b[0m\u001b[0mnp\u001b[0m\u001b[1;33m.\u001b[0m\u001b[0mall\u001b[0m\u001b[1;33m(\u001b[0m\u001b[0mnp\u001b[0m\u001b[1;33m.\u001b[0m\u001b[0marray\u001b[0m\u001b[1;33m(\u001b[0m\u001b[0msave_history\u001b[0m\u001b[1;33m[\u001b[0m\u001b[1;36m0\u001b[0m\u001b[1;33m]\u001b[0m \u001b[1;33m==\u001b[0m \u001b[0mnp\u001b[0m\u001b[1;33m.\u001b[0m\u001b[0marray\u001b[0m\u001b[1;33m(\u001b[0m\u001b[0msave_history\u001b[0m\u001b[1;33m[\u001b[0m\u001b[1;36m1\u001b[0m\u001b[1;33m]\u001b[0m\u001b[1;33m)\u001b[0m\u001b[1;33m)\u001b[0m\u001b[1;33m)\u001b[0m\u001b[1;33m)\u001b[0m\u001b[1;33m\u001b[0m\u001b[1;33m\u001b[0m\u001b[0m\n\u001b[0m",
      "\u001b[1;31mAssertionError\u001b[0m: "
     ]
    }
   ],
   "source": [
    "# 인스턴스 생성\n",
    "clf = TabNetClassifier(**tabnet_params)\n",
    "# 학습 데이터\n",
    "X_train = train[features].values[train_indices]\n",
    "y_train = train[target].values[train_indices]\n",
    "# 검증 데이터\n",
    "X_valid = train[features].values[valid_indices]\n",
    "y_valid = train[target].values[valid_indices]\n",
    "# 평가 데이터\n",
    "X_test = train[features].values[test_indices]\n",
    "y_test = train[target].values[test_indices]\n",
    "# epoch 설정\n",
    "max_epochs = 100 if not os.getenv(\"CI\", False) else 2\n",
    "# 훈련 (warm start = False)\n",
    "save_history = []\n",
    "for _ in range(2):\n",
    "    clf.fit(\n",
    "            X_train = X_train, y_train = y_train,\n",
    "            eval_set = [(X_train, y_train), (X_valid, y_valid)], eval_name = ['train', 'valid'], eval_metric = ['auc'],\n",
    "            max_epochs = max_epochs, patience = 20,\n",
    "            batch_size = 1024, virtual_batch_size = 128,\n",
    "            num_workers = 0, weights = 1, drop_last = False\n",
    "            )\n",
    "    save_history.append(clf.history[\"valid_auc\"])\n",
    "assert(np.all(np.array(save_history[0] == np.array(save_history[1]))))"
   ]
  },
  {
   "cell_type": "code",
   "execution_count": 9,
   "metadata": {},
   "outputs": [
    {
     "data": {
      "image/png": "[encoded data removed]",
      "text/plain": [
       "<Figure size 432x288 with 1 Axes>"
      ]
     },
     "metadata": {
      "needs_background": "light"
     },
     "output_type": "display_data"
    }
   ],
   "source": [
    "import matplotlib.pyplot as plt\n",
    "# loss 시각화\n",
    "plt.plot(clf.history['loss'])\n",
    "plt.show()"
   ]
  },
  {
   "cell_type": "code",
   "execution_count": 13,
   "metadata": {},
   "outputs": [
    {
     "data": {
      "image/png": "[encoded data removed]",
      "text/plain": [
       "<Figure size 432x288 with 1 Axes>"
      ]
     },
     "metadata": {
      "needs_background": "light"
     },
     "output_type": "display_data"
    }
   ],
   "source": [
    "# AUC 시각화\n",
    "plt.plot(clf.history['train_auc'], label = 'train')\n",
    "plt.plot(clf.history['valid_auc'], label = 'valid')\n",
    "plt.legend()\n",
    "plt.show()"
   ]
  },
  {
   "cell_type": "code",
   "execution_count": 14,
   "metadata": {},
   "outputs": [
    {
     "data": {
      "image/png": "[encoded data removed]",
      "text/plain": [
       "<Figure size 432x288 with 1 Axes>"
      ]
     },
     "metadata": {
      "needs_background": "light"
     },
     "output_type": "display_data"
    }
   ],
   "source": [
    "# 학습률 시각화\n",
    "plt.plot(clf.history['lr'])\n",
    "plt.show()"
   ]
  },
  {
   "cell_type": "code",
   "execution_count": 29,
   "metadata": {},
   "outputs": [
    {
     "name": "stdout",
     "output_type": "stream",
     "text": [
      "FINAL VALID SCORE FOR census-income : 0.9307252768096355\n",
      "FINAL TEST SCORE FOR census-income : 0.9218517434924386\n"
     ]
    },
    {
     "data": {
      "text/plain": [
       "array(['wealthy', 'not_wealthy', 'wealthy', ..., 'not_wealthy',\n",
       "       'not_wealthy', 'not_wealthy'], dtype='<U11')"
      ]
     },
     "execution_count": 29,
     "metadata": {},
     "output_type": "execute_result"
    }
   ],
   "source": [
    "from sklearn.metrics import roc_auc_score\n",
    "# 검증 데이터 예측\n",
    "preds_valid = clf.predict_proba(X_valid)\n",
    "valid_auc = roc_auc_score(y_score = preds_valid[:, 1], y_true = y_valid)\n",
    "# 평가 데이터 예측\n",
    "preds = clf.predict_proba(X_test)\n",
    "test_auc = roc_auc_score(y_score = preds[:, 1], y_true = y_test)\n",
    "print(f\"FINAL VALID SCORE FOR {dataset_name} : {valid_auc}\")\n",
    "print(f\"FINAL TEST SCORE FOR {dataset_name} : {test_auc}\")\n",
    "# 최적 가중치가 적용되었는지 확인\n",
    "assert np.isclose(valid_auc, np.max(clf.history['valid_auc']), atol = 1e-6)\n",
    "# 평가 데이터 예측 결과\n",
    "clf.predict(X_test)"
   ]
  },
  {
   "cell_type": "code",
   "execution_count": 30,
   "metadata": {},
   "outputs": [
    {
     "name": "stdout",
     "output_type": "stream",
     "text": [
      "Successfully saved model at ./example_binary_classification.zip\n"
     ]
    }
   ],
   "source": [
    "# TabNet 저장\n",
    "saving_path_name = \"./example_binary_classification\"\n",
    "saved_filepath = clf.save_model(saving_path_name)"
   ]
  },
  {
   "cell_type": "code",
   "execution_count": 31,
   "metadata": {},
   "outputs": [
    {
     "name": "stdout",
     "output_type": "stream",
     "text": [
      "Device used : cpu\n",
      "Device used : cpu\n",
      "./example_binary_classification.zip\n"
     ]
    }
   ],
   "source": [
    "# TabNet 불러오기\n",
    "loaded_clf = TabNetClassifier()\n",
    "loaded_clf.load_model(saved_filepath)\n",
    "print(saved_filepath)"
   ]
  },
  {
   "cell_type": "code",
   "execution_count": 32,
   "metadata": {},
   "outputs": [
    {
     "name": "stdout",
     "output_type": "stream",
     "text": [
      "FINAL TEST SCORE FOR census-income : 0.9218517434924386\n"
     ]
    },
    {
     "data": {
      "text/plain": [
       "array(['wealthy', 'not_wealthy', 'wealthy', ..., 'not_wealthy',\n",
       "       'not_wealthy', 'not_wealthy'], dtype='<U11')"
      ]
     },
     "execution_count": 32,
     "metadata": {},
     "output_type": "execute_result"
    }
   ],
   "source": [
    "# 불러온 TabNet으로 평가 데이터 예측\n",
    "loaded_preds = loaded_clf.predict_proba(X_test)\n",
    "loaded_test_auc = roc_auc_score(y_score = loaded_preds[:, 1], y_true = y_test)\n",
    "print(f\"FINAL TEST SCORE FOR {dataset_name} : {loaded_test_auc}\")\n",
    "assert(test_auc == loaded_test_auc)\n",
    "# 평가 데이터 예측 결과\n",
    "loaded_clf.predict(X_test)"
   ]
  },
  {
   "cell_type": "code",
   "execution_count": 33,
   "metadata": {},
   "outputs": [
    {
     "data": {
      "text/plain": [
       "array([3.05440369e-05, 1.58607595e-02, 4.50564568e-02, 8.97874887e-02,\n",
       "       7.67481941e-02, 1.13819458e-01, 9.46281244e-02, 3.34947149e-02,\n",
       "       1.19538244e-02, 5.16385165e-02, 3.42973310e-01, 7.99365502e-02,\n",
       "       4.37017813e-02, 3.70276914e-04])"
      ]
     },
     "execution_count": 33,
     "metadata": {},
     "output_type": "execute_result"
    }
   ],
   "source": [
    "# Global Explainability\n",
    "clf.feature_importances_"
   ]
  },
  {
   "cell_type": "code",
   "execution_count": 46,
   "metadata": {},
   "outputs": [
    {
     "name": "stdout",
     "output_type": "stream",
     "text": [
      "Shape of explain_matrix:  (3337, 14)\n",
      "Keys of masks:  dict_keys([0, 1, 2])\n",
      "Shape of masks[0]:  (3337, 14)\n"
     ]
    },
    {
     "data": {
      "image/png": "[encoded data removed]",
      "text/plain": [
       "<Figure size 720x720 with 3 Axes>"
      ]
     },
     "metadata": {
      "needs_background": "light"
     },
     "output_type": "display_data"
    }
   ],
   "source": [
    "# Local Explainability와 Masks\n",
    "explain_matrix, masks = clf.explain(X_test)\n",
    "print(\"Shape of explain_matrix: \", explain_matrix.shape)\n",
    "print(\"Keys of masks: \", masks.keys())\n",
    "print(\"Shape of masks[0]: \", masks[0].shape)\n",
    "# Masks 시각화\n",
    "fig, axs = plt.subplots(1, 3, figsize = (10, 10))\n",
    "for i in range(3):\n",
    "    axs[i].imshow(masks[i][: 50])\n",
    "    axs[i].set_title(f\"mask {i}\")\n",
    "    axs[i].grid()\n",
    "plt.show()"
   ]
  },
  {
   "cell_type": "code",
   "execution_count": null,
   "metadata": {},
   "outputs": [],
   "source": []
  }
 ],
 "metadata": {
  "interpreter": {
   "hash": "f2575392019334285e0602a4035eec46b9260ee4c95297ea34ade6e3c8b8fcaf"
  },
  "kernelspec": {
   "display_name": "Python 3.8.10 64-bit",
   "name": "python3"
  },
  "language_info": {
   "codemirror_mode": {
    "name": "ipython",
    "version": 3
   },
   "file_extension": ".py",
   "mimetype": "text/x-python",
   "name": "python",
   "nbconvert_exporter": "python",
   "pygments_lexer": "ipython3",
   "version": "3.8.10"
  },
  "orig_nbformat": 4
 },
 "nbformat": 4,
 "nbformat_minor": 2
}
