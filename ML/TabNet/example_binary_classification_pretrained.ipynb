{
 "cells": [
  {
   "cell_type": "code",
   "execution_count": 1,
   "metadata": {},
   "outputs": [
    {
     "name": "stdout",
     "output_type": "stream",
     "text": [
      "File already exists.\n"
     ]
    }
   ],
   "source": [
    "import os\n",
    "import wget\n",
    "from pathlib import Path\n",
    "# 데이터 수집 URL\n",
    "url = \"https://archive.ics.uci.edu/ml/machine-learning-databases/adult/adult.data\"\n",
    "# 데이터셋 명\n",
    "dataset_name = 'census-income'\n",
    "# 데이터 저장 경로 생성\n",
    "out = Path(os.getcwd() + '/data/' + dataset_name + '.csv')\n",
    "out.parent.mkdir(parents = True, exist_ok = True)\n",
    "if out.exists(): print(\"File already exists.\")\n",
    "else:\n",
    "    print(\"Downloading file...\")\n",
    "    # 데이터 다운로드\n",
    "    wget.download(url, out.as_posix())"
   ]
  },
  {
   "cell_type": "code",
   "execution_count": 2,
   "metadata": {},
   "outputs": [
    {
     "name": "stdout",
     "output_type": "stream",
     "text": [
      "39 73 [17 18 19 20 21 22 23 24 25 26 27 28 29 30 31 32 33 34 35 36 37 38 39 40\n",
      " 41 42 43 44 45 46 47 48 49 50 51 52 53 54 55 56 57 58 59 60 61 62 63 64\n",
      " 65 66 67 68 69 70 71 72 73 74 75 76 77 78 79 80 81 82 83 84 85 86 87 88\n",
      " 90]\n",
      " State-gov 9 [' ?' ' Federal-gov' ' Local-gov' ' Never-worked' ' Private'\n",
      " ' Self-emp-inc' ' Self-emp-not-inc' ' State-gov' ' Without-pay']\n",
      " Bachelors 16 [' 10th' ' 11th' ' 12th' ' 1st-4th' ' 5th-6th' ' 7th-8th' ' 9th'\n",
      " ' Assoc-acdm' ' Assoc-voc' ' Bachelors' ' Doctorate' ' HS-grad'\n",
      " ' Masters' ' Preschool' ' Prof-school' ' Some-college']\n",
      " 13 16 [ 1  2  3  4  5  6  7  8  9 10 11 12 13 14 15 16]\n",
      " Never-married 7 [' Divorced' ' Married-AF-spouse' ' Married-civ-spouse'\n",
      " ' Married-spouse-absent' ' Never-married' ' Separated' ' Widowed']\n",
      " Adm-clerical 15 [' ?' ' Adm-clerical' ' Armed-Forces' ' Craft-repair' ' Exec-managerial'\n",
      " ' Farming-fishing' ' Handlers-cleaners' ' Machine-op-inspct'\n",
      " ' Other-service' ' Priv-house-serv' ' Prof-specialty' ' Protective-serv'\n",
      " ' Sales' ' Tech-support' ' Transport-moving']\n",
      " Not-in-family 6 [' Husband' ' Not-in-family' ' Other-relative' ' Own-child' ' Unmarried'\n",
      " ' Wife']\n",
      " White 5 [' Amer-Indian-Eskimo' ' Asian-Pac-Islander' ' Black' ' Other' ' White']\n",
      " Male 2 [' Female' ' Male']\n",
      " 2174 119 [    0   114   401   594   914   991  1055  1086  1111  1151  1173  1409\n",
      "  1424  1455  1471  1506  1639  1797  1831  1848  2009  2036  2050  2062\n",
      "  2105  2174  2176  2202  2228  2290  2329  2346  2354  2387  2407  2414\n",
      "  2463  2538  2580  2597  2635  2653  2829  2885  2907  2936  2961  2964\n",
      "  2977  2993  3103  3137  3273  3325  3411  3418  3432  3456  3464  3471\n",
      "  3674  3781  3818  3887  3908  3942  4064  4101  4386  4416  4508  4650\n",
      "  4687  4787  4865  4931  4934  5013  5060  5178  5455  5556  5721  6097\n",
      "  6360  6418  6497  6514  6723  6767  6849  7298  7430  7443  7688  7896\n",
      "  7978  8614  9386  9562 10520 10566 10605 11678 13550 14084 14344 15020\n",
      " 15024 15831 18481 20051 22040 25124 25236 27828 34095 41310 99999]\n",
      " 0 92 [   0  155  213  323  419  625  653  810  880  974 1092 1138 1258 1340\n",
      " 1380 1408 1411 1485 1504 1539 1564 1573 1579 1590 1594 1602 1617 1628\n",
      " 1648 1651 1668 1669 1672 1719 1721 1726 1735 1740 1741 1755 1762 1816\n",
      " 1825 1844 1848 1876 1887 1902 1944 1974 1977 1980 2001 2002 2042 2051\n",
      " 2057 2080 2129 2149 2163 2174 2179 2201 2205 2206 2231 2238 2246 2258\n",
      " 2267 2282 2339 2352 2377 2392 2415 2444 2457 2467 2472 2489 2547 2559\n",
      " 2603 2754 2824 3004 3683 3770 3900 4356]\n",
      " 40 94 [ 1  2  3  4  5  6  7  8  9 10 11 12 13 14 15 16 17 18 19 20 21 22 23 24\n",
      " 25 26 27 28 29 30 31 32 33 34 35 36 37 38 39 40 41 42 43 44 45 46 47 48\n",
      " 49 50 51 52 53 54 55 56 57 58 59 60 61 62 63 64 65 66 67 68 70 72 73 74\n",
      " 75 76 77 78 80 81 82 84 85 86 87 88 89 90 91 92 94 95 96 97 98 99]\n",
      " United-States 42 [' ?' ' Cambodia' ' Canada' ' China' ' Columbia' ' Cuba'\n",
      " ' Dominican-Republic' ' Ecuador' ' El-Salvador' ' England' ' France'\n",
      " ' Germany' ' Greece' ' Guatemala' ' Haiti' ' Holand-Netherlands'\n",
      " ' Honduras' ' Hong' ' Hungary' ' India' ' Iran' ' Ireland' ' Italy'\n",
      " ' Jamaica' ' Japan' ' Laos' ' Mexico' ' Nicaragua'\n",
      " ' Outlying-US(Guam-USVI-etc)' ' Peru' ' Philippines' ' Poland'\n",
      " ' Portugal' ' Puerto-Rico' ' Scotland' ' South' ' Taiwan' ' Thailand'\n",
      " ' Trinadad&Tobago' ' United-States' ' Vietnam' ' Yugoslavia']\n",
      " <=50K 2 [' <=50K' ' >50K']\n",
      "Set 3 ['test' 'train' 'valid']\n"
     ]
    }
   ],
   "source": [
    "import numpy as np\n",
    "import pandas as pd\n",
    "from sklearn.preprocessing import LabelEncoder\n",
    "# 데이터 불러오기\n",
    "train = pd.read_csv(out).copy()\n",
    "target = ' <=50K'\n",
    "# 학습/검증/평가 데이터 구분\n",
    "if \"Set\" not in train.columns: train[\"Set\"] = np.random.choice([\"train\", \"valid\", \"test\"], p = [.8, .1, .1], size = (train.shape[0], ))\n",
    "train_indices = train[train.Set == \"train\"].index\n",
    "valid_indices = train[train.Set == \"valid\"].index\n",
    "test_indices  = train[train.Set == \"test\" ].index\n",
    "# 컬럼별 unique 개수\n",
    "nunique = train.nunique()\n",
    "# 컬럼별 dtype\n",
    "types = train.dtypes\n",
    "categorical_columns = []\n",
    "categorical_dims =  {}\n",
    "for col in train.columns:\n",
    "    # 범주형 변수면 결측을 VV_likely로 채우고 라벨 인코딩 적용\n",
    "    if types[col] == 'object' or nunique[col] < 200:\n",
    "        l_enc = LabelEncoder()\n",
    "        train[col] = train[col].fillna(\"VV_likely\")\n",
    "        train[col] = l_enc.fit_transform(train[col].values)\n",
    "        categorical_columns.append(col)\n",
    "        categorical_dims[col] = len(l_enc.classes_)\n",
    "        print(col, train[col].nunique(), l_enc.classes_)\n",
    "    # 범주형 변수 아니면 결측을 평균으로 보완\n",
    "    else: train.fillna(train.loc[train_indices, col].mean(), inplace = True)"
   ]
  },
  {
   "cell_type": "code",
   "execution_count": 3,
   "metadata": {},
   "outputs": [],
   "source": [
    "# 타겟 라벨 변경\n",
    "train.loc[train[target] == 0, target] = \"not_wealthy\"\n",
    "train.loc[train[target] == 1, target] = \"wealthy\""
   ]
  },
  {
   "cell_type": "code",
   "execution_count": 4,
   "metadata": {},
   "outputs": [],
   "source": [
    "# 입력 변수\n",
    "unused_feat = ['Set']\n",
    "features = [col for col in train.columns if col not in unused_feat + [target]] \n",
    "# 범주형 변수\n",
    "cat_idxs = [i for i, f in enumerate(features) if f in categorical_columns]\n",
    "cat_dims = [categorical_dims[f] for i, f in enumerate(features) if f in categorical_columns]"
   ]
  },
  {
   "cell_type": "code",
   "execution_count": 5,
   "metadata": {},
   "outputs": [],
   "source": [
    "# 학습 데이터\n",
    "X_train = train[features].values[train_indices]\n",
    "y_train = train[target].values[train_indices]\n",
    "# 검증 데이터\n",
    "X_valid = train[features].values[valid_indices]\n",
    "y_valid = train[target].values[valid_indices]\n",
    "# 평가 데이터\n",
    "X_test = train[features].values[test_indices]\n",
    "y_test = train[target].values[test_indices]"
   ]
  },
  {
   "cell_type": "code",
   "execution_count": 9,
   "metadata": {},
   "outputs": [
    {
     "name": "stdout",
     "output_type": "stream",
     "text": [
      "Device used : cpu\n",
      "epoch 0  | loss: 3.4067  | val_0_unsup_loss: 1.71061 |  0:00:02s\n",
      "epoch 1  | loss: 1.35242 | val_0_unsup_loss: 1.17858 |  0:00:05s\n",
      "epoch 2  | loss: 1.14087 | val_0_unsup_loss: 1.09997 |  0:00:08s\n",
      "epoch 3  | loss: 1.0984  | val_0_unsup_loss: 1.08314 |  0:00:10s\n",
      "epoch 4  | loss: 1.07983 | val_0_unsup_loss: 1.06704 |  0:00:13s\n",
      "epoch 5  | loss: 1.06165 | val_0_unsup_loss: 1.05446 |  0:00:15s\n",
      "epoch 6  | loss: 1.05037 | val_0_unsup_loss: 1.04103 |  0:00:19s\n",
      "epoch 7  | loss: 1.03374 | val_0_unsup_loss: 1.02917 |  0:00:22s\n",
      "epoch 8  | loss: 1.02023 | val_0_unsup_loss: 1.00785 |  0:00:25s\n",
      "epoch 9  | loss: 1.00883 | val_0_unsup_loss: 0.95785 |  0:00:27s\n",
      "epoch 10 | loss: 0.99427 | val_0_unsup_loss: 0.94325 |  0:00:29s\n",
      "epoch 11 | loss: 0.98314 | val_0_unsup_loss: 0.93244 |  0:00:33s\n",
      "epoch 12 | loss: 0.97241 | val_0_unsup_loss: 0.931   |  0:00:35s\n",
      "epoch 13 | loss: 0.9707  | val_0_unsup_loss: 0.9206  |  0:00:38s\n",
      "epoch 14 | loss: 0.96426 | val_0_unsup_loss: 0.91477 |  0:00:40s\n",
      "epoch 15 | loss: 0.95873 | val_0_unsup_loss: 0.90966 |  0:00:43s\n",
      "epoch 16 | loss: 0.95463 | val_0_unsup_loss: 0.90444 |  0:00:45s\n",
      "epoch 17 | loss: 0.95315 | val_0_unsup_loss: 0.89627 |  0:00:47s\n",
      "epoch 18 | loss: 0.94631 | val_0_unsup_loss: 0.89212 |  0:00:50s\n",
      "epoch 19 | loss: 0.94604 | val_0_unsup_loss: 0.87331 |  0:00:52s\n",
      "epoch 20 | loss: 0.94391 | val_0_unsup_loss: 0.87118 |  0:00:55s\n",
      "epoch 21 | loss: 0.94007 | val_0_unsup_loss: 0.86175 |  0:00:58s\n",
      "epoch 22 | loss: 0.93228 | val_0_unsup_loss: 0.84122 |  0:01:00s\n",
      "epoch 23 | loss: 0.92735 | val_0_unsup_loss: 0.82257 |  0:01:03s\n",
      "epoch 24 | loss: 0.92186 | val_0_unsup_loss: 0.8113  |  0:01:05s\n",
      "epoch 25 | loss: 0.91268 | val_0_unsup_loss: 0.82051 |  0:01:07s\n",
      "epoch 26 | loss: 0.90646 | val_0_unsup_loss: 0.78529 |  0:01:10s\n",
      "epoch 27 | loss: 0.89869 | val_0_unsup_loss: 0.77074 |  0:01:13s\n",
      "epoch 28 | loss: 0.89063 | val_0_unsup_loss: 0.75619 |  0:01:15s\n",
      "epoch 29 | loss: 0.88542 | val_0_unsup_loss: 0.74981 |  0:01:18s\n",
      "epoch 30 | loss: 0.87385 | val_0_unsup_loss: 0.72899 |  0:01:20s\n",
      "epoch 31 | loss: 0.86475 | val_0_unsup_loss: 0.72996 |  0:01:23s\n",
      "epoch 32 | loss: 0.85466 | val_0_unsup_loss: 0.69832 |  0:01:25s\n",
      "epoch 33 | loss: 0.84658 | val_0_unsup_loss: 0.69745 |  0:01:28s\n",
      "epoch 34 | loss: 0.84521 | val_0_unsup_loss: 0.68612 |  0:01:31s\n",
      "epoch 35 | loss: 0.83393 | val_0_unsup_loss: 0.67894 |  0:01:34s\n",
      "epoch 36 | loss: 0.82975 | val_0_unsup_loss: 0.67576 |  0:01:36s\n",
      "epoch 37 | loss: 0.82549 | val_0_unsup_loss: 0.66514 |  0:01:39s\n",
      "epoch 38 | loss: 0.81757 | val_0_unsup_loss: 0.66247 |  0:01:42s\n",
      "epoch 39 | loss: 0.80937 | val_0_unsup_loss: 0.65189 |  0:01:44s\n",
      "epoch 40 | loss: 0.80194 | val_0_unsup_loss: 0.65069 |  0:01:47s\n",
      "epoch 41 | loss: 0.79605 | val_0_unsup_loss: 0.64635 |  0:01:50s\n",
      "epoch 42 | loss: 0.79362 | val_0_unsup_loss: 0.63428 |  0:01:53s\n",
      "epoch 43 | loss: 0.78608 | val_0_unsup_loss: 0.61906 |  0:01:56s\n",
      "epoch 44 | loss: 0.78089 | val_0_unsup_loss: 0.60318 |  0:01:59s\n",
      "epoch 45 | loss: 0.77682 | val_0_unsup_loss: 0.59267 |  0:02:02s\n",
      "epoch 46 | loss: 0.77066 | val_0_unsup_loss: 0.58675 |  0:02:05s\n",
      "epoch 47 | loss: 0.7701  | val_0_unsup_loss: 0.57492 |  0:02:09s\n",
      "epoch 48 | loss: 0.76115 | val_0_unsup_loss: 0.55938 |  0:02:12s\n",
      "epoch 49 | loss: 0.75389 | val_0_unsup_loss: 0.54743 |  0:02:16s\n",
      "epoch 50 | loss: 0.75145 | val_0_unsup_loss: 0.54038 |  0:02:20s\n",
      "epoch 51 | loss: 0.74291 | val_0_unsup_loss: 0.53837 |  0:02:24s\n",
      "epoch 52 | loss: 0.73558 | val_0_unsup_loss: 0.52457 |  0:02:28s\n",
      "epoch 53 | loss: 0.73791 | val_0_unsup_loss: 0.51542 |  0:02:31s\n",
      "epoch 54 | loss: 0.72657 | val_0_unsup_loss: 0.50385 |  0:02:34s\n",
      "epoch 55 | loss: 0.72417 | val_0_unsup_loss: 0.48943 |  0:02:38s\n",
      "epoch 56 | loss: 0.71111 | val_0_unsup_loss: 0.47115 |  0:02:41s\n",
      "epoch 57 | loss: 0.70137 | val_0_unsup_loss: 0.45353 |  0:02:44s\n",
      "epoch 58 | loss: 0.68824 | val_0_unsup_loss: 0.43793 |  0:02:49s\n",
      "epoch 59 | loss: 0.68307 | val_0_unsup_loss: 0.43028 |  0:02:52s\n",
      "epoch 60 | loss: 0.67481 | val_0_unsup_loss: 0.41349 |  0:02:55s\n",
      "epoch 61 | loss: 0.67044 | val_0_unsup_loss: 0.39868 |  0:02:58s\n",
      "epoch 62 | loss: 0.65344 | val_0_unsup_loss: 0.34719 |  0:03:00s\n",
      "epoch 63 | loss: 0.64915 | val_0_unsup_loss: 0.33909 |  0:03:03s\n",
      "epoch 64 | loss: 0.63802 | val_0_unsup_loss: 0.33801 |  0:03:05s\n",
      "epoch 65 | loss: 0.63559 | val_0_unsup_loss: 0.32588 |  0:03:08s\n",
      "epoch 66 | loss: 0.634   | val_0_unsup_loss: 0.31192 |  0:03:10s\n",
      "epoch 67 | loss: 0.62839 | val_0_unsup_loss: 0.30229 |  0:03:13s\n",
      "epoch 68 | loss: 0.6163  | val_0_unsup_loss: 0.29958 |  0:03:15s\n",
      "epoch 69 | loss: 0.62079 | val_0_unsup_loss: 0.29172 |  0:03:18s\n",
      "epoch 70 | loss: 0.62091 | val_0_unsup_loss: 0.28441 |  0:03:20s\n",
      "epoch 71 | loss: 0.62524 | val_0_unsup_loss: 0.28696 |  0:03:22s\n",
      "epoch 72 | loss: 0.61565 | val_0_unsup_loss: 0.28466 |  0:03:25s\n",
      "epoch 73 | loss: 0.61116 | val_0_unsup_loss: 0.27347 |  0:03:27s\n",
      "epoch 74 | loss: 0.60504 | val_0_unsup_loss: 0.25932 |  0:03:30s\n",
      "epoch 75 | loss: 0.61158 | val_0_unsup_loss: 0.29035 |  0:03:32s\n",
      "epoch 76 | loss: 0.60163 | val_0_unsup_loss: 0.26556 |  0:03:37s\n",
      "epoch 77 | loss: 0.61523 | val_0_unsup_loss: 0.25147 |  0:03:39s\n",
      "epoch 78 | loss: 0.60268 | val_0_unsup_loss: 0.25228 |  0:03:42s\n",
      "epoch 79 | loss: 0.59235 | val_0_unsup_loss: 0.24745 |  0:03:44s\n",
      "epoch 80 | loss: 0.59607 | val_0_unsup_loss: 0.24601 |  0:03:47s\n",
      "epoch 81 | loss: 0.58735 | val_0_unsup_loss: 0.2452  |  0:03:49s\n",
      "epoch 82 | loss: 0.58235 | val_0_unsup_loss: 0.24552 |  0:03:52s\n",
      "epoch 83 | loss: 0.58808 | val_0_unsup_loss: 0.24947 |  0:03:55s\n",
      "epoch 84 | loss: 0.58587 | val_0_unsup_loss: 0.24874 |  0:03:58s\n",
      "epoch 85 | loss: 0.58494 | val_0_unsup_loss: 0.24492 |  0:04:01s\n",
      "epoch 86 | loss: 0.57933 | val_0_unsup_loss: 0.24151 |  0:04:05s\n",
      "epoch 87 | loss: 0.58153 | val_0_unsup_loss: 0.2399  |  0:04:08s\n",
      "epoch 88 | loss: 0.58421 | val_0_unsup_loss: 0.24084 |  0:04:10s\n",
      "epoch 89 | loss: 0.58113 | val_0_unsup_loss: 0.24879 |  0:04:14s\n",
      "epoch 90 | loss: 0.57989 | val_0_unsup_loss: 0.23385 |  0:04:17s\n",
      "epoch 91 | loss: 0.57761 | val_0_unsup_loss: 0.24369 |  0:04:19s\n",
      "epoch 92 | loss: 0.58248 | val_0_unsup_loss: 0.24268 |  0:04:22s\n",
      "epoch 93 | loss: 0.58502 | val_0_unsup_loss: 0.2465  |  0:04:25s\n",
      "epoch 94 | loss: 0.58004 | val_0_unsup_loss: 0.23069 |  0:04:28s\n",
      "epoch 95 | loss: 0.58187 | val_0_unsup_loss: 0.234   |  0:04:31s\n",
      "epoch 96 | loss: 0.58829 | val_0_unsup_loss: 0.23163 |  0:04:34s\n",
      "epoch 97 | loss: 0.57382 | val_0_unsup_loss: 0.22429 |  0:04:37s\n",
      "epoch 98 | loss: 0.58267 | val_0_unsup_loss: 0.24156 |  0:04:40s\n",
      "epoch 99 | loss: 0.57163 | val_0_unsup_loss: 0.23708 |  0:04:44s\n",
      "epoch 100| loss: 0.58245 | val_0_unsup_loss: 0.22811 |  0:04:47s\n",
      "epoch 101| loss: 0.58141 | val_0_unsup_loss: 0.24037 |  0:04:51s\n",
      "epoch 102| loss: 0.57833 | val_0_unsup_loss: 0.22997 |  0:04:55s\n",
      "\n",
      "Early stopping occurred at epoch 102 with best_epoch = 97 and best_val_0_unsup_loss = 0.22429\n",
      "Best weights from best epoch are automatically used!\n"
     ]
    }
   ],
   "source": [
    "import torch\n",
    "from pytorch_tabnet.pretraining import TabNetPretrainer\n",
    "# TabNetPretrainer 인스턴스 생성\n",
    "unsupervised_model = TabNetPretrainer(\n",
    "    cat_idxs = cat_idxs,\n",
    "    cat_dims = cat_dims,\n",
    "    cat_emb_dim = 3,\n",
    "    optimizer_fn = torch.optim.Adam,\n",
    "    optimizer_params = dict(lr = 2e-2),\n",
    "    mask_type = 'entmax', # \"sparsemax\",\n",
    "    #n_shared_decoder = 1, # nb shared glu for decoding\n",
    "    #n_indep_decoder = 1, # nb independent glu for decoding\n",
    "    )\n",
    "# 최대 epoch 설정\n",
    "max_epochs = 1000 if not os.getenv(\"CI\", False) else 2\n",
    "# Pretrain 훈련(Unsupervised)\n",
    "unsupervised_model.fit(\n",
    "    X_train = X_train,\n",
    "    eval_set = [X_valid],\n",
    "    max_epochs = max_epochs , patience = 5,\n",
    "    batch_size = 2048, virtual_batch_size = 128,\n",
    "    num_workers = 0,\n",
    "    drop_last = False,\n",
    "    pretraining_ratio = 0.8,\n",
    "    )"
   ]
  },
  {
   "cell_type": "code",
   "execution_count": 13,
   "metadata": {},
   "outputs": [],
   "source": [
    "# Reconstruction 데이터 생성\n",
    "reconstructed_X, embedded_X = unsupervised_model.predict(X_valid)\n",
    "assert(reconstructed_X.shape == embedded_X.shape)\n",
    "# 검증 데이터셋의 Pretrained Explain matrix와 Masks 생성\n",
    "unsupervised_explain_matrix, unsupervised_masks = unsupervised_model.explain(X_valid)"
   ]
  },
  {
   "cell_type": "code",
   "execution_count": 16,
   "metadata": {},
   "outputs": [
    {
     "data": {
      "image/png": "[encoded data removed]",
      "text/plain": [
       "<Figure size 720x720 with 3 Axes>"
      ]
     },
     "metadata": {
      "needs_background": "light"
     },
     "output_type": "display_data"
    }
   ],
   "source": [
    "import matplotlib.pyplot as plt\n",
    "fig, axs = plt.subplots(1, 3, figsize = (10, 10))\n",
    "for i in range(3):\n",
    "    axs[i].imshow(unsupervised_masks[i][: 50])\n",
    "    axs[i].set_title(f\"mask {i}\")\n",
    "    axs[i].grid()\n",
    "plt.show()"
   ]
  },
  {
   "cell_type": "code",
   "execution_count": 26,
   "metadata": {},
   "outputs": [
    {
     "name": "stdout",
     "output_type": "stream",
     "text": [
      "Successfully saved model at ./example_binary_classification_pretrained.zip\n",
      "Device used : cpu\n",
      "Device used : cpu\n"
     ]
    }
   ],
   "source": [
    "# Pretrained 모델 저장\n",
    "unsupervised_model.save_model('./example_binary_classification_pretrained')\n",
    "# Pretrained 모델 불러오기\n",
    "loaded_pretrain = TabNetPretrainer()\n",
    "loaded_pretrain.load_model('./example_binary_classification_pretrained.zip')"
   ]
  },
  {
   "cell_type": "code",
   "execution_count": 19,
   "metadata": {},
   "outputs": [
    {
     "name": "stdout",
     "output_type": "stream",
     "text": [
      "Device used : cpu\n",
      "Loading weights from unsupervised pretraining\n"
     ]
    },
    {
     "name": "stderr",
     "output_type": "stream",
     "text": [
      "C:\\Users\\begas\\AppData\\Local\\Packages\\PythonSoftwareFoundation.Python.3.8_qbz5n2kfra8p0\\LocalCache\\local-packages\\Python38\\site-packages\\pytorch_tabnet\\abstract_model.py:97: UserWarning: Pretraining: cat_dims changed from [] to [73, 9, 16, 16, 7, 15, 6, 5, 2, 119, 92, 94, 42]\n",
      "  warnings.warn(wrn_msg)\n",
      "C:\\Users\\begas\\AppData\\Local\\Packages\\PythonSoftwareFoundation.Python.3.8_qbz5n2kfra8p0\\LocalCache\\local-packages\\Python38\\site-packages\\pytorch_tabnet\\abstract_model.py:97: UserWarning: Pretraining: cat_emb_dim changed from 1 to 3\n",
      "  warnings.warn(wrn_msg)\n",
      "C:\\Users\\begas\\AppData\\Local\\Packages\\PythonSoftwareFoundation.Python.3.8_qbz5n2kfra8p0\\LocalCache\\local-packages\\Python38\\site-packages\\pytorch_tabnet\\abstract_model.py:97: UserWarning: Pretraining: cat_idxs changed from [] to [0, 1, 3, 4, 5, 6, 7, 8, 9, 10, 11, 12, 13]\n",
      "  warnings.warn(wrn_msg)\n",
      "C:\\Users\\begas\\AppData\\Local\\Packages\\PythonSoftwareFoundation.Python.3.8_qbz5n2kfra8p0\\LocalCache\\local-packages\\Python38\\site-packages\\pytorch_tabnet\\abstract_model.py:97: UserWarning: Pretraining: mask_type changed from sparsemax to entmax\n",
      "  warnings.warn(wrn_msg)\n"
     ]
    },
    {
     "name": "stdout",
     "output_type": "stream",
     "text": [
      "epoch 0  | loss: 0.50627 | train_auc: 0.83732 | valid_auc: 0.8316  |  0:00:03s\n",
      "epoch 1  | loss: 0.40822 | train_auc: 0.89278 | valid_auc: 0.88841 |  0:00:06s\n",
      "epoch 2  | loss: 0.37978 | train_auc: 0.90577 | valid_auc: 0.90126 |  0:00:09s\n",
      "epoch 3  | loss: 0.37244 | train_auc: 0.91392 | valid_auc: 0.90876 |  0:00:12s\n",
      "epoch 4  | loss: 0.35814 | train_auc: 0.92402 | valid_auc: 0.92193 |  0:00:15s\n",
      "epoch 5  | loss: 0.33975 | train_auc: 0.92179 | valid_auc: 0.91556 |  0:00:19s\n",
      "epoch 6  | loss: 0.33524 | train_auc: 0.92114 | valid_auc: 0.91712 |  0:00:22s\n",
      "epoch 7  | loss: 0.33342 | train_auc: 0.92137 | valid_auc: 0.91879 |  0:00:25s\n",
      "epoch 8  | loss: 0.32249 | train_auc: 0.91743 | valid_auc: 0.91075 |  0:00:29s\n",
      "epoch 9  | loss: 0.32599 | train_auc: 0.93042 | valid_auc: 0.92214 |  0:00:32s\n",
      "epoch 10 | loss: 0.32249 | train_auc: 0.92622 | valid_auc: 0.91565 |  0:00:35s\n",
      "epoch 11 | loss: 0.31607 | train_auc: 0.93297 | valid_auc: 0.92427 |  0:00:39s\n",
      "epoch 12 | loss: 0.31308 | train_auc: 0.93637 | valid_auc: 0.92645 |  0:00:42s\n",
      "epoch 13 | loss: 0.31134 | train_auc: 0.93685 | valid_auc: 0.92435 |  0:00:46s\n",
      "epoch 14 | loss: 0.31366 | train_auc: 0.93834 | valid_auc: 0.92532 |  0:00:50s\n",
      "epoch 15 | loss: 0.31601 | train_auc: 0.93851 | valid_auc: 0.92705 |  0:00:52s\n",
      "epoch 16 | loss: 0.31262 | train_auc: 0.93832 | valid_auc: 0.9279  |  0:00:56s\n",
      "epoch 17 | loss: 0.30861 | train_auc: 0.93988 | valid_auc: 0.92513 |  0:00:58s\n",
      "epoch 18 | loss: 0.3053  | train_auc: 0.93952 | valid_auc: 0.92494 |  0:01:02s\n",
      "epoch 19 | loss: 0.3099  | train_auc: 0.9403  | valid_auc: 0.9258  |  0:01:05s\n",
      "epoch 20 | loss: 0.30857 | train_auc: 0.94048 | valid_auc: 0.92261 |  0:01:08s\n",
      "epoch 21 | loss: 0.30531 | train_auc: 0.93938 | valid_auc: 0.92472 |  0:01:11s\n",
      "epoch 22 | loss: 0.30189 | train_auc: 0.94233 | valid_auc: 0.92484 |  0:01:14s\n",
      "epoch 23 | loss: 0.30124 | train_auc: 0.9425  | valid_auc: 0.92533 |  0:01:19s\n",
      "epoch 24 | loss: 0.30432 | train_auc: 0.94267 | valid_auc: 0.9256  |  0:01:23s\n",
      "epoch 25 | loss: 0.30366 | train_auc: 0.94137 | valid_auc: 0.92216 |  0:01:26s\n",
      "epoch 26 | loss: 0.30023 | train_auc: 0.94378 | valid_auc: 0.92676 |  0:01:30s\n",
      "epoch 27 | loss: 0.29995 | train_auc: 0.94404 | valid_auc: 0.92409 |  0:01:34s\n",
      "epoch 28 | loss: 0.30131 | train_auc: 0.94478 | valid_auc: 0.92441 |  0:01:38s\n",
      "epoch 29 | loss: 0.29919 | train_auc: 0.94405 | valid_auc: 0.92312 |  0:01:42s\n",
      "epoch 30 | loss: 0.29382 | train_auc: 0.94536 | valid_auc: 0.92356 |  0:01:46s\n",
      "epoch 31 | loss: 0.29727 | train_auc: 0.94587 | valid_auc: 0.92432 |  0:01:52s\n",
      "epoch 32 | loss: 0.29412 | train_auc: 0.94544 | valid_auc: 0.9235  |  0:01:56s\n",
      "epoch 33 | loss: 0.29508 | train_auc: 0.94628 | valid_auc: 0.9243  |  0:02:00s\n",
      "epoch 34 | loss: 0.28526 | train_auc: 0.94542 | valid_auc: 0.92386 |  0:02:04s\n",
      "epoch 35 | loss: 0.29451 | train_auc: 0.9447  | valid_auc: 0.92113 |  0:02:08s\n",
      "epoch 36 | loss: 0.29365 | train_auc: 0.94685 | valid_auc: 0.92278 |  0:02:12s\n",
      "\n",
      "Early stopping occurred at epoch 36 with best_epoch = 16 and best_valid_auc = 0.9279\n",
      "Best weights from best epoch are automatically used!\n"
     ]
    }
   ],
   "source": [
    "from pytorch_tabnet.tab_model import TabNetClassifier\n",
    "# TabNet 인스턴스 생성\n",
    "clf = TabNetClassifier(optimizer_fn = torch.optim.Adam,\n",
    "                       optimizer_params = dict(lr = 2e-2),\n",
    "                       scheduler_params = {\"step_size\" : 10, # how to use learning rate scheduler\n",
    "                                           \"gamma\" : 0.9},\n",
    "                       scheduler_fn = torch.optim.lr_scheduler.StepLR,\n",
    "                       mask_type = 'sparsemax' # This will be overwritten if using pretrain model\n",
    "                    )\n",
    "# 훈련\n",
    "clf.fit(\n",
    "    X_train = X_train, y_train = y_train,\n",
    "    eval_set = [(X_train, y_train), (X_valid, y_valid)], eval_name = ['train', 'valid'], eval_metric = ['auc'],\n",
    "    max_epochs = max_epochs , patience = 20,\n",
    "    batch_size = 1024, virtual_batch_size = 128,\n",
    "    num_workers = 0,\n",
    "    weights = 1,\n",
    "    drop_last = False,\n",
    "    from_unsupervised = loaded_pretrain\n",
    "    )"
   ]
  },
  {
   "cell_type": "code",
   "execution_count": 20,
   "metadata": {},
   "outputs": [
    {
     "data": {
      "image/png": "[encoded data removed]",
      "text/plain": [
       "<Figure size 432x288 with 1 Axes>"
      ]
     },
     "metadata": {
      "needs_background": "light"
     },
     "output_type": "display_data"
    }
   ],
   "source": [
    "# loss 시각화\n",
    "plt.plot(clf.history['loss'])\n",
    "plt.show()"
   ]
  },
  {
   "cell_type": "code",
   "execution_count": 21,
   "metadata": {},
   "outputs": [
    {
     "data": {
      "image/png": "[encoded data removed]",
      "text/plain": [
       "<Figure size 432x288 with 1 Axes>"
      ]
     },
     "metadata": {
      "needs_background": "light"
     },
     "output_type": "display_data"
    }
   ],
   "source": [
    "# AUC 시각화\n",
    "plt.plot(clf.history['train_auc'], label = 'train')\n",
    "plt.plot(clf.history['valid_auc'], label = 'valid')\n",
    "plt.legend()\n",
    "plt.show()"
   ]
  },
  {
   "cell_type": "code",
   "execution_count": 22,
   "metadata": {},
   "outputs": [
    {
     "data": {
      "image/png": "[encoded data removed]",
      "text/plain": [
       "<Figure size 432x288 with 1 Axes>"
      ]
     },
     "metadata": {
      "needs_background": "light"
     },
     "output_type": "display_data"
    }
   ],
   "source": [
    "# 학습률 시각화\n",
    "plt.plot(clf.history['lr'])\n",
    "plt.show()"
   ]
  },
  {
   "cell_type": "code",
   "execution_count": 23,
   "metadata": {},
   "outputs": [
    {
     "name": "stdout",
     "output_type": "stream",
     "text": [
      "FINAL VALID SCORE FOR census-income : 0.9279042019616867\n",
      "FINAL TEST SCORE FOR census-income : 0.9241715134467543\n"
     ]
    },
    {
     "data": {
      "text/plain": [
       "array(['wealthy', 'wealthy', 'wealthy', ..., 'not_wealthy', 'wealthy',\n",
       "       'not_wealthy'], dtype='<U11')"
      ]
     },
     "execution_count": 23,
     "metadata": {},
     "output_type": "execute_result"
    }
   ],
   "source": [
    "from sklearn.metrics import roc_auc_score\n",
    "# 검증 데이터 예측\n",
    "preds_valid = clf.predict_proba(X_valid)\n",
    "valid_auc = roc_auc_score(y_score = preds_valid[:, 1], y_true = y_valid)\n",
    "# 평가 데이터 예측\n",
    "preds = clf.predict_proba(X_test)\n",
    "test_auc = roc_auc_score(y_score = preds[:, 1], y_true = y_test)\n",
    "print(f\"FINAL VALID SCORE FOR {dataset_name} : {valid_auc}\")\n",
    "print(f\"FINAL TEST SCORE FOR {dataset_name} : {test_auc}\")\n",
    "# 최적 가중치가 적용되었는지 확인\n",
    "assert np.isclose(valid_auc, np.max(clf.history['valid_auc']), atol = 1e-6)\n",
    "# 평가 데이터 예측 결과\n",
    "clf.predict(X_test)"
   ]
  },
  {
   "cell_type": "code",
   "execution_count": 28,
   "metadata": {},
   "outputs": [
    {
     "name": "stdout",
     "output_type": "stream",
     "text": [
      "Successfully saved model at ./example_binary_classification_pretrained_tabnet.zip\n"
     ]
    }
   ],
   "source": [
    "# TabNet 저장\n",
    "saving_path_name = \"./example_binary_classification_pretrained_tabnet\"\n",
    "saved_filepath = clf.save_model(saving_path_name)"
   ]
  },
  {
   "cell_type": "code",
   "execution_count": 29,
   "metadata": {},
   "outputs": [
    {
     "name": "stdout",
     "output_type": "stream",
     "text": [
      "Device used : cpu\n",
      "Device used : cpu\n",
      "./example_binary_classification_pretrained_tabnet.zip\n"
     ]
    }
   ],
   "source": [
    "# TabNet 불러오기\n",
    "loaded_clf = TabNetClassifier()\n",
    "loaded_clf.load_model(saved_filepath)\n",
    "print(saved_filepath)"
   ]
  },
  {
   "cell_type": "code",
   "execution_count": 30,
   "metadata": {},
   "outputs": [
    {
     "name": "stdout",
     "output_type": "stream",
     "text": [
      "FINAL TEST SCORE FOR census-income : 0.9241715134467543\n"
     ]
    },
    {
     "data": {
      "text/plain": [
       "array(['wealthy', 'wealthy', 'wealthy', ..., 'not_wealthy', 'wealthy',\n",
       "       'not_wealthy'], dtype='<U11')"
      ]
     },
     "execution_count": 30,
     "metadata": {},
     "output_type": "execute_result"
    }
   ],
   "source": [
    "# 불러온 TabNet으로 평가 데이터 예측\n",
    "loaded_preds = loaded_clf.predict_proba(X_test)\n",
    "loaded_test_auc = roc_auc_score(y_score = loaded_preds[:, 1], y_true = y_test)\n",
    "print(f\"FINAL TEST SCORE FOR {dataset_name} : {loaded_test_auc}\")\n",
    "assert(test_auc == loaded_test_auc)\n",
    "# 평가 데이터 예측 결과\n",
    "loaded_clf.predict(X_test)"
   ]
  },
  {
   "cell_type": "code",
   "execution_count": 31,
   "metadata": {},
   "outputs": [
    {
     "data": {
      "text/plain": [
       "array([1.12607387e-01, 7.80398177e-02, 1.06975040e-06, 7.54735418e-02,\n",
       "       5.29408231e-04, 6.69395400e-02, 5.75704618e-02, 9.43804087e-02,\n",
       "       1.56664835e-02, 9.55046687e-02, 1.29743959e-01, 6.52381471e-02,\n",
       "       1.82309283e-01, 2.59958238e-02])"
      ]
     },
     "execution_count": 31,
     "metadata": {},
     "output_type": "execute_result"
    }
   ],
   "source": [
    "# Global Explainability\n",
    "clf.feature_importances_"
   ]
  },
  {
   "cell_type": "code",
   "execution_count": 32,
   "metadata": {},
   "outputs": [
    {
     "name": "stdout",
     "output_type": "stream",
     "text": [
      "Shape of explain_matrix:  (3157, 14)\n",
      "Keys of masks:  dict_keys([0, 1, 2])\n",
      "Shape of masks[0]:  (3157, 14)\n"
     ]
    },
    {
     "data": {
      "image/png": "[encoded data removed]",
      "text/plain": [
       "<Figure size 720x720 with 3 Axes>"
      ]
     },
     "metadata": {
      "needs_background": "light"
     },
     "output_type": "display_data"
    }
   ],
   "source": [
    "# Local Explainability와 Masks\n",
    "explain_matrix, masks = clf.explain(X_test)\n",
    "print(\"Shape of explain_matrix: \", explain_matrix.shape)\n",
    "print(\"Keys of masks: \", masks.keys())\n",
    "print(\"Shape of masks[0]: \", masks[0].shape)\n",
    "# Masks 시각화\n",
    "fig, axs = plt.subplots(1, 3, figsize = (10, 10))\n",
    "for i in range(3):\n",
    "    axs[i].imshow(masks[i][: 50])\n",
    "    axs[i].set_title(f\"mask {i}\")\n",
    "    axs[i].grid()\n",
    "plt.show()"
   ]
  },
  {
   "cell_type": "code",
   "execution_count": null,
   "metadata": {},
   "outputs": [],
   "source": []
  }
 ],
 "metadata": {
  "interpreter": {
   "hash": "f2575392019334285e0602a4035eec46b9260ee4c95297ea34ade6e3c8b8fcaf"
  },
  "kernelspec": {
   "display_name": "Python 3.8.10 64-bit",
   "name": "python3"
  },
  "language_info": {
   "codemirror_mode": {
    "name": "ipython",
    "version": 3
   },
   "file_extension": ".py",
   "mimetype": "text/x-python",
   "name": "python",
   "nbconvert_exporter": "python",
   "pygments_lexer": "ipython3",
   "version": "3.8.10"
  },
  "orig_nbformat": 4
 },
 "nbformat": 4,
 "nbformat_minor": 2
}
