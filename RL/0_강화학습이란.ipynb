{
 "cells": [
  {
   "cell_type": "markdown",
   "id": "ec7aee5f-516c-4085-a919-35ff45fe9fdf",
   "metadata": {},
   "source": [
    "# 0. 강화학습이란"
   ]
  },
  {
   "cell_type": "markdown",
   "id": "5b42af54-1511-460a-829b-d4caa9daf2c3",
   "metadata": {},
   "source": [
    "---"
   ]
  },
  {
   "cell_type": "markdown",
   "id": "b9d65871-a424-42d2-a2aa-d0d85ef249bf",
   "metadata": {},
   "source": [
    "&emsp;심층 강화학습(Deep Reinforcement Learning)은 구글(Google)이 인공지능 스타트업인 딥마인드(DeepMind)를 5억 달러(2014년 기준) 이상에 인수하고, 인텔(Intel)이 모빌아이(Mobileye)를 150억 달러(2017)에 인수하면서 많은 관심을 받은 분야입니다. 구글은 또한 딥마인드에서 개발한 심층 Q-러닝 (deep Q-learning)의 방법론과 장치에 대한 특허를 받았습니다. 이 튜토리얼에서는 미로 해결을 위한 간단한 애플리케이션을 만들기 위해, 심층 강화학습 (Q-러닝)의 기본 아이디어 중 일부를 설명하려고 합니다."
   ]
  },
  {
   "cell_type": "code",
   "execution_count": null,
   "id": "0ac1c226-9386-448c-a6db-a80e66bcdd65",
   "metadata": {},
   "outputs": [],
   "source": []
  }
 ],
 "metadata": {
  "kernelspec": {
   "display_name": "Python 3 (ipykernel)",
   "language": "python",
   "name": "python3"
  },
  "language_info": {
   "codemirror_mode": {
    "name": "ipython",
    "version": 3
   },
   "file_extension": ".py",
   "mimetype": "text/x-python",
   "name": "python",
   "nbconvert_exporter": "python",
   "pygments_lexer": "ipython3",
   "version": "3.9.13"
  }
 },
 "nbformat": 4,
 "nbformat_minor": 5
}
